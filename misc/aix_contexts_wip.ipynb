{
 "cells": [
  {
   "cell_type": "code",
   "execution_count": null,
   "metadata": {},
   "outputs": [],
   "source": []
  },
  {
   "cell_type": "code",
   "execution_count": null,
   "metadata": {},
   "outputs": [],
   "source": []
  },
  {
   "cell_type": "markdown",
   "metadata": {},
   "source": [
    "# Tools for AI contexts"
   ]
  },
  {
   "cell_type": "code",
   "execution_count": null,
   "metadata": {},
   "outputs": [],
   "source": [
    "from aix import contexts\n",
    "from oa.chats import ChatDacc  # currently broken\n",
    "from scraped import markdown_of_site, download_site, scrape_multiple_sites\n",
    "import hubcap\n"
   ]
  },
  {
   "cell_type": "markdown",
   "metadata": {},
   "source": [
    "## github discussions (etc.)"
   ]
  },
  {
   "cell_type": "code",
   "execution_count": 1,
   "metadata": {},
   "outputs": [],
   "source": [
    "from hubcap import RepoReader\n",
    "\n",
    "url = 'https://github.com/thorwhalen/sonification'\n",
    "r = RepoReader(url)"
   ]
  },
  {
   "cell_type": "code",
   "execution_count": 2,
   "metadata": {},
   "outputs": [
    {
     "data": {
      "text/plain": [
       "[4, 1]"
      ]
     },
     "execution_count": 2,
     "metadata": {},
     "output_type": "execute_result"
    }
   ],
   "source": [
    "discussions = r['discussions']\n",
    "list(discussions)"
   ]
  },
  {
   "cell_type": "code",
   "execution_count": 3,
   "metadata": {},
   "outputs": [],
   "source": [
    "# jdict = dict(discussions)  # get all discussions as a dict\n",
    "jdict = discussions[4]\n"
   ]
  },
  {
   "cell_type": "code",
   "execution_count": 7,
   "metadata": {},
   "outputs": [
    {
     "data": {
      "text/plain": [
       "['number', 'title', 'body', 'author', 'createdAt', 'updatedAt', 'comments']"
      ]
     },
     "execution_count": 7,
     "metadata": {},
     "output_type": "execute_result"
    }
   ],
   "source": [
    "list(jdict)"
   ]
  },
  {
   "cell_type": "code",
   "execution_count": 13,
   "metadata": {},
   "outputs": [
    {
     "data": {
      "text/plain": [
       "{'body': '## Python Libraries for Sonification and Music Synthesis\\r\\n\\r\\nWe’ll look into Python libraries and tools that can help transform numerical feature vectors representing sentiments into musical or auditory forms. This includes tools that support MIDI generation, audio synthesis, real-time playback, and symbolic music generation, while enabling both symbolic and acoustic mappings. We’ll focus on options that support polyphonic outputs and span from high-level abstractions to low-level sound design libraries\\r\\n\\r\\nThis list includes Python tools for converting numerical feature vectors (e.g., emotion scores) into sound or music using both symbolic (MIDI, notes, instruments) and acoustic (pitch, volume, timbre) mappings. All tools support polyphony and span a range of abstraction levels.\\r\\n\\r\\n---\\r\\n\\r\\n### 🎵 High-Level Sonification Frameworks\\r\\n\\r\\n- **[Astronify](https://github.com/spacetelescope/astronify)**  \\r\\n  Time-series data to musical sound. Originally for astronomy but works with any 1D data. Maps values to pitch, time, and gain.\\r\\n\\r\\n- **[Sci-Sonify](https://github.com/mrahim/sci-sonify)**  \\r\\n  Adds `.sonify()` methods to pandas, NumPy, xarray. Uses “soundmaps” to map values to musical note ranges, scales automatically.\\r\\n\\r\\n- **[Miditime](https://github.com/therevoman/miditime)**  \\r\\n  Converts time-series data to MIDI. Maps data values to pitch, duration, and velocity. Outputs standard MIDI files.\\r\\n\\r\\n- **[audio-plot-lib](https://github.com/FlorianWilhelm/audio-plot-lib)**  \\r\\n  Sonifies matplotlib-style plots. Data points map to pitches, x-axis to time/panning. Great for making trends audible.\\r\\n\\r\\n- **[SonoUno](https://gitlab.com/fi-uba-sonouno/sonouno)**  \\r\\n  GUI and Python API for turning data into sound. Supports real-time playback and audio file export, with preprocessing tools.\\r\\n\\r\\n---\\r\\n\\r\\n### 🎼 Symbolic Music & MIDI Tools\\r\\n\\r\\n- **[music21](https://web.mit.edu/music21/)**  \\r\\n  Music theory + composition toolkit. Create notes, chords, and streams. Export to MIDI/MusicXML. High-level symbolic mapping.\\r\\n\\r\\n- **[Mingus](https://bspaans.github.io/python-mingus/)**  \\r\\n  Advanced music theory in Python. Includes MIDI sequencing + FluidSynth support for real-time playback with instruments.\\r\\n\\r\\n- **[SCAMP](https://scamp.marcevanstein.com/)**  \\r\\n  Suite for computer-assisted music in Python. Real-time playback, multi-instrument scheduling, MIDI/audio export.\\r\\n\\r\\n- **[MIDIUtil](https://github.com/MarkCWirt/MIDIUtil)**  \\r\\n  Simple MIDI file generation from Python. Add notes with timing, pitch, duration, and velocity.\\r\\n\\r\\n- **[PrettyMIDI](https://github.com/craffel/pretty-midi)**  \\r\\n  Powerful MIDI structure manipulation. Can synthesize basic audio. Supports tempo, velocity, instrument handling.\\r\\n\\r\\n- **[Partitura](https://github.com/musescore/partitura)**  \\r\\n  MusicXML/MIDI parsing and generation. More for score analysis but usable for symbolic sonification.\\r\\n\\r\\n---\\r\\n\\r\\n### 🎛️ Audio Synthesis & DSP Libraries\\r\\n\\r\\n- **[Pyo](https://ajaxsoundstudio.com/software/pyo/)**  \\r\\n  Real-time audio synthesis and DSP. Create oscillators, filters, envelopes. Polyphonic and highly customizable.\\r\\n\\r\\n- **[AudioLazy](https://pypi.org/project/audiolazy/)**  \\r\\n  Pure Python DSP toolkit. Streams, filters, synthesizers. Maps data to audio signals and effects.\\r\\n\\r\\n- **[python-musical](https://github.com/lechmazur/python-musical)**  \\r\\n  Music theory + waveform generators. Create notes/chords and directly generate audio from them.\\r\\n\\r\\n- **[ctcsound (Csound Python API)](https://csound.github.io/docs/api/python/)**  \\r\\n  Bindings for the Csound audio engine. Allows full control over synthesis via score + instrument definitions.\\r\\n\\r\\n- **[FoxDot](https://foxdot.org/)**  \\r\\n  High-level live coding environment in Python for SuperCollider. Real-time pattern/music generation.\\r\\n\\r\\n- **[PyFluidSynth](https://pypi.org/project/PyFluidSynth/)**  \\r\\n  Python interface to FluidSynth for real-time MIDI playback using SoundFonts.\\r\\n\\r\\n- **[PyDub](https://github.com/jiaaro/pydub)**  \\r\\n  Audio editing and simple tone generation. Combine tones, layer segments, export audio.\\r\\n\\r\\n- **[PySynth](https://github.com/mdoege/PySynth)**  \\r\\n  Lightweight synthesizer that outputs WAV from note lists. Basic, but easy for quick prototyping.\\r\\n\\r\\n---\\r\\n\\r\\nEach of these tools can be integrated into a Python pipeline to sonify data based on mappings you define. For richer acoustic textures, prefer `Pyo`, `SCAMP`, or `FoxDot`. For simpler symbolic mappings, use `music21`, `Mingus`, or `Miditime`.',\n",
       " 'author': 'thorwhalen',\n",
       " 'replies': []}"
      ]
     },
     "execution_count": 13,
     "metadata": {},
     "output_type": "execute_result"
    }
   ],
   "source": [
    "subdict = jdict['comments'][-1]\n",
    "subdict"
   ]
  },
  {
   "cell_type": "code",
   "execution_count": 16,
   "metadata": {},
   "outputs": [
    {
     "data": {
      "text/plain": [
       "76326"
      ]
     },
     "execution_count": 16,
     "metadata": {},
     "output_type": "execute_result"
    }
   ],
   "source": [
    "from hubcap import create_markdown_from_discussion_jdict\n",
    "\n",
    "# TODO: Make it work for subdict of discussion jdic\n",
    "# discussion_md = create_markdown_from_discussion_jdict(subdict)\n",
    "\n",
    "discussion_md = create_markdown_from_discussion_jdict(jdict)\n",
    "len(discussion_md)"
   ]
  },
  {
   "cell_type": "code",
   "execution_count": null,
   "metadata": {},
   "outputs": [],
   "source": [
    "# copy the markdown (to paste it elsewhere)\n",
    "from pyperclip import copy\n",
    "copy(discussion_md)"
   ]
  },
  {
   "cell_type": "code",
   "execution_count": null,
   "metadata": {},
   "outputs": [],
   "source": [
    "# ... or save it to a file\n",
    "# import pathlib \n",
    "# pathlib.Path('sonification_discussion.md').write_text(discussion_md)\n"
   ]
  },
  {
   "cell_type": "markdown",
   "metadata": {},
   "source": [
    "## Extract urls from markdown"
   ]
  },
  {
   "cell_type": "code",
   "execution_count": 24,
   "metadata": {},
   "outputs": [
    {
     "name": "stdout",
     "output_type": "stream",
     "text": [
      "## Python Libraries for Sonification and Music Synthesis\n",
      "\n",
      "We’ll look into Python libraries and tools that can help transform numerical feature vectors representing sentiments into musical or auditory forms. This includes tools that support MIDI generation, audio synthesis, real-time playback, and symbolic music generation, while enabling both symbolic and acoustic mappings. We’ll focus on options that support polyphonic outputs and span from high-level abstractions to low-level sound design libraries\n",
      "\n",
      "This list includes Python tools for converting numerical feature vectors (e.g., emotion scores) into sound or music using both symbolic (MIDI, notes, instruments) and acoustic (pitch, volume, timbre) mappings. All tools support polyphony and span a range of abstraction levels.\n",
      "\n",
      "---\n",
      "\n",
      "### 🎵 High-Level Sonification Frameworks\n",
      "\n",
      "- **[Astronify](https://github.com/spacetelescope/astronify)**  \n",
      "  Time-series data to musical sound. Originally for astronomy but works with any 1D data. Maps values to pitch, time, and gain.\n",
      "\n",
      "- **[Sci-Sonify](https://github.com/mrahim/sci-sonify)**  \n",
      "  Adds `.sonify()` methods to pandas, NumPy, xarray. Uses “soundmaps” to map values to musical note ranges, scales automatically.\n",
      "\n",
      "- **[Miditime](https://github.com/therevoman/miditime)**  \n",
      "  Converts time-series data to MIDI. Maps data values to pitch, duration, and velocity. Outputs standard MIDI files.\n",
      "\n",
      "- **[audio-plot-lib](https://github.com/FlorianWilhelm/audio-plot-lib)**  \n",
      "  Sonifies  ...\n",
      "...\n"
     ]
    }
   ],
   "source": [
    "content = jdict['comments'][-1]['body']\n",
    "print(content[:1500], '...\\n...')"
   ]
  },
  {
   "cell_type": "code",
   "execution_count": 25,
   "metadata": {},
   "outputs": [
    {
     "data": {
      "text/plain": [
       "['html_links', 'only_urls', 'with_surrounding_context']"
      ]
     },
     "execution_count": 25,
     "metadata": {},
     "output_type": "execute_result"
    }
   ],
   "source": [
    "from aix.contexts import extract_urls\n",
    "\n",
    "[x for x in dir(extract_urls) if not x.startswith('_')]"
   ]
  },
  {
   "cell_type": "code",
   "execution_count": 41,
   "metadata": {},
   "outputs": [
    {
     "data": {
      "text/plain": [
       "[('', 'https://github.com/spacetelescope/astronify)**'),\n",
       " ('', 'https://github.com/mrahim/sci-sonify)**'),\n",
       " ('', 'https://github.com/therevoman/miditime)**'),\n",
       " ('', 'https://github.com/FlorianWilhelm/audio-plot-lib)**')]"
      ]
     },
     "execution_count": 41,
     "metadata": {},
     "output_type": "execute_result"
    }
   ],
   "source": [
    "list(extract_urls.only_urls(content))[:4]"
   ]
  },
  {
   "cell_type": "code",
   "execution_count": 33,
   "metadata": {},
   "outputs": [],
   "source": [
    "# list(extract_urls.with_surrounding_context(content))"
   ]
  },
  {
   "cell_type": "code",
   "execution_count": null,
   "metadata": {},
   "outputs": [],
   "source": []
  },
  {
   "cell_type": "code",
   "execution_count": null,
   "metadata": {},
   "outputs": [],
   "source": []
  },
  {
   "cell_type": "markdown",
   "metadata": {},
   "source": [
    "# Extracting info from notebooks\n",
    "\n",
    "Sometimes we want to get some jupyter notebook stuff into the AI context. \n",
    "Notebooks are stored as quite verbose jsons, so what I often do is to convert the notebook to markdown. \n",
    "Even then, I might get more than I want, which will go over AI context limits, or at the very least infect \n",
    "the signal-to-noise ratio. \n",
    "\n",
    "So I want to filter stuff (in and/or out). \n",
    "\n",
    "I can do that pre-conversion (on the json) or post-conversion (on the markdown). \n",
    "Both have their place. \n",
    "\n",
    "One con of doing this on the json is that it's more information rich, so can be more complicated to find \n",
    "what you need to filter in or out. \n",
    "One pro is that the json is structured, so it's easier to express many of your filtering needs\n",
    "(less need for regular expressions etc.)"
   ]
  },
  {
   "cell_type": "code",
   "execution_count": null,
   "metadata": {},
   "outputs": [],
   "source": [
    "from test2doc.notebook_utils import clear_outputs_of_largest_output_cells, ensure_notebook_dict"
   ]
  },
  {
   "cell_type": "code",
   "execution_count": null,
   "metadata": {},
   "outputs": [
    {
     "data": {
      "text/plain": [
       "15416894"
      ]
     },
     "metadata": {},
     "output_type": "display_data"
    }
   ],
   "source": [
    "notebook_filepath = '/Users/thorwhalen/Dropbox/py/proj/notebooks/003 - Scrap 2025.ipynb'\n",
    "\n",
    "import json\n",
    "nb = ensure_notebook_dict(notebook_filepath)\n",
    "len(json.dumps(nb['cells']))"
   ]
  },
  {
   "cell_type": "code",
   "execution_count": null,
   "metadata": {},
   "outputs": [
    {
     "name": "stdout",
     "output_type": "stream",
     "text": [
      "len(json.dumps(nb['cells']))=15415262\n",
      "len(json.dumps(nb['cells']))=372927\n"
     ]
    }
   ],
   "source": [
    "\n",
    "nb = ensure_notebook_dict(notebook_filepath)\n",
    "n = 5\n",
    "print(f\"{len(json.dumps(nb['cells']))=}\")\n",
    "\n",
    "import pathlib\n",
    "import json\n",
    "from dol import Pipe\n",
    "\n",
    "target_filepath = '/Users/thorwhalen/Dropbox/py/proj/notebooks/_003 - Scrap 2025.ipynb'\n",
    "egress = Pipe(\n",
    "    json.dumps,\n",
    "    pathlib.Path(target_filepath).write_text\n",
    ")\n",
    "clear_outputs_of_largest_output_cells(nb, n, egress=egress)\n",
    "print(f\"{len(json.dumps(nb['cells']))=}\")\n"
   ]
  },
  {
   "cell_type": "code",
   "execution_count": null,
   "metadata": {},
   "outputs": [],
   "source": [
    "\n",
    "import json\n",
    "\n",
    "nb = ensure_notebook_dict(notebook_filepath)\n",
    "n = 5\n",
    "print(f\"{len(json.dumps(nb['cells']))=}\")\n",
    "\n",
    "sorted_cells = sort_notebook_cells(\n",
    "    nb,\n",
    "    key=get_output_size,\n",
    "    reverse=True,\n",
    "    cell_egress=lambda x: x\n",
    ")\n",
    "\n",
    "def empty_output(cell):\n",
    "    if 'outputs' in cell:\n",
    "        cell['outputs'] = []\n",
    "    return cell\n",
    "\n",
    "for i in range(n):\n",
    "    c = next(sorted_cells)\n",
    "    empty_output(c)\n",
    "\n",
    "print(f\"{len(json.dumps(nb['cells']))=}\")"
   ]
  },
  {
   "cell_type": "code",
   "execution_count": null,
   "metadata": {},
   "outputs": [
    {
     "data": {
      "text/plain": [
       "375341"
      ]
     },
     "metadata": {},
     "output_type": "display_data"
    }
   ],
   "source": [
    "import pathlib \n",
    "\n",
    "target_notebook_filepath = '/Users/thorwhalen/Dropbox/py/proj/notebooks/_003 - Scrap 2025.ipynb'\n",
    "pathlib.Path(target_notebook_filepath).write_text(json.dumps(nb))"
   ]
  },
  {
   "cell_type": "code",
   "execution_count": null,
   "metadata": {},
   "outputs": [
    {
     "data": {
      "text/plain": [
       "{'cell_type': 'code',\n",
       " 'execution_count': 7,\n",
       " 'id': '89a92820',\n",
       " 'metadata': {},\n",
       " 'outputs': [],\n",
       " 'source': ['import pandas as pd \\n', '\\n', \"pd.DataFrame(r['results'])\"]}"
      ]
     },
     "metadata": {},
     "output_type": "display_data"
    }
   ],
   "source": [
    "c"
   ]
  },
  {
   "cell_type": "code",
   "execution_count": null,
   "metadata": {},
   "outputs": [
    {
     "data": {
      "text/plain": [
       "4"
      ]
     },
     "metadata": {},
     "output_type": "display_data"
    }
   ],
   "source": [
    "c = ensure_notebook_dict('/Users/thorwhalen/Dropbox/py/proj/notebooks/003 - Scrap 2025.ipynb')\n",
    "len(c)"
   ]
  },
  {
   "cell_type": "code",
   "execution_count": null,
   "metadata": {},
   "outputs": [
    {
     "data": {
      "text/plain": [
       "{'cell_type': 'code',\n",
       " 'execution_count': 1,\n",
       " 'id': '75a6a00a',\n",
       " 'metadata': {},\n",
       " 'outputs': [{'name': 'stderr',\n",
       "   'output_type': 'stream',\n",
       "   'text': ['/Users/thorwhalen/Dropbox/py/proj/i/dols/unbox/unbox/base.py:186: UserWarning: Not a version that is validated by this code: 3.10. Yielding nothing\\n',\n",
       "    '  warnings.warn(\\n',\n",
       "    \"/Users/thorwhalen/Dropbox/py/proj/i/dols/unbox/unbox/base.py:191: UserWarning: It seems I can't access the python builtin names data, so I'll yield nothing. Error: FileNotFoundError(2, 'No such file or directory')\\n\",\n",
       "    '  warnings.warn(\\n']}],\n",
       " 'source': ['import qo']}"
      ]
     },
     "metadata": {},
     "output_type": "display_data"
    }
   ],
   "source": [
    "len(c['cells'])\n",
    "c['cells'][0]"
   ]
  },
  {
   "cell_type": "code",
   "execution_count": null,
   "metadata": {},
   "outputs": [],
   "source": []
  },
  {
   "cell_type": "code",
   "execution_count": null,
   "metadata": {},
   "outputs": [],
   "source": []
  },
  {
   "cell_type": "code",
   "execution_count": null,
   "metadata": {},
   "outputs": [],
   "source": []
  },
  {
   "cell_type": "code",
   "execution_count": null,
   "metadata": {},
   "outputs": [],
   "source": []
  },
  {
   "cell_type": "markdown",
   "metadata": {},
   "source": [
    "# Scrap"
   ]
  },
  {
   "cell_type": "code",
   "execution_count": null,
   "metadata": {},
   "outputs": [],
   "source": [
    "from aix import bytes_store_to_markdown_store\n",
    "from aix.contexts import extensions_not_supported_by_converters\n",
    "\n",
    "src_dir = 'ENTER_YOUR_SOURCE_DIR_HERE'"
   ]
  },
  {
   "cell_type": "code",
   "execution_count": null,
   "metadata": {},
   "outputs": [],
   "source": [
    "# If you want to \n",
    "targ_dir = None  # also enter your target folder here\n",
    "\n",
    "if targ_dir is not None:\n",
    "    assert not extensions_not_supported_by_converters(src_dir), (\n",
    "        \"some extensions are not supported by the converters\"\n",
    "    )\n",
    "\n",
    "    target_store = bytes_store_to_markdown_store(src_dir, targ_dir)\n",
    "\n",
    "    print(f\"You now have a folder with {len(target_store)} markdown files in it: {targ_dir}\")\n"
   ]
  },
  {
   "cell_type": "code",
   "execution_count": null,
   "metadata": {},
   "outputs": [
    {
     "data": {
      "text/plain": [
       "50"
      ]
     },
     "execution_count": 7,
     "metadata": {},
     "output_type": "execute_result"
    }
   ],
   "source": [
    "# doing it in memory\n",
    "in_memory_target_store = bytes_store_to_markdown_store(src_dir, target_store={})\n",
    "len(in_memory_target_store)"
   ]
  },
  {
   "cell_type": "code",
   "execution_count": 8,
   "metadata": {},
   "outputs": [
    {
     "data": {
      "text/plain": [
       "14450386"
      ]
     },
     "execution_count": 8,
     "metadata": {},
     "output_type": "execute_result"
    }
   ],
   "source": [
    "from aix.contexts import aggregate_store\n",
    "\n",
    "md_string = aggregate_store(in_memory_target_store)\n",
    "len(md_string)"
   ]
  },
  {
   "cell_type": "code",
   "execution_count": 9,
   "metadata": {},
   "outputs": [
    {
     "data": {
      "text/plain": [
       "{'docx.md', 'pdf.md', 'pptx.md', 'xlsx.md'}"
      ]
     },
     "execution_count": 9,
     "metadata": {},
     "output_type": "execute_result"
    }
   ],
   "source": [
    "from aix.contexts import get_extension\n",
    "\n",
    "extensions = set(map(lambda x: '.'.join(x.split('.')[-2:]), in_memory_target_store))\n",
    "extensions"
   ]
  },
  {
   "cell_type": "code",
   "execution_count": null,
   "metadata": {},
   "outputs": [
    {
     "name": "stdout",
     "output_type": "stream",
     "text": [
      "aggregate for extension pptx.md has 72835 characters\n",
      "aggregate for extension xlsx.md has 1981094 characters\n",
      "aggregate for extension pdf.md has 1577353 characters\n",
      "aggregate for extension docx.md has 10819098 characters\n"
     ]
    }
   ],
   "source": [
    "aggregate_stores_by_ext = {}\n",
    "\n",
    "for ext in extensions:\n",
    "    substore = {k: v for k, v in in_memory_target_store.items() if k.endswith(ext)}\n",
    "    aggregate_key = \"aggregate.{}\".format(ext)\n",
    "    aggregate_stores_by_ext[aggregate_key] = aggregate_store(substore)\n",
    "    print(f\"aggregate for extension {ext} has {len(aggregate_stores_by_ext[aggregate_key])} characters\")\n"
   ]
  },
  {
   "cell_type": "code",
   "execution_count": 14,
   "metadata": {},
   "outputs": [],
   "source": [
    "# if you want to save this to disk\n",
    "import dol \n",
    "\n",
    "target_sub_stores_folders = '~'  # change here\n",
    "aggregate_stores_by_ext_files = dol.TextFiles(target_sub_stores_folders)\n",
    "\n",
    "aggregate_stores_by_ext_files.update(aggregate_stores_by_ext)\n",
    "# and now you have some files saved to target_sub_stores_folders"
   ]
  },
  {
   "cell_type": "code",
   "execution_count": null,
   "metadata": {},
   "outputs": [],
   "source": []
  },
  {
   "cell_type": "code",
   "execution_count": null,
   "metadata": {},
   "outputs": [],
   "source": []
  }
 ],
 "metadata": {
  "kernelspec": {
   "display_name": "p10",
   "language": "python",
   "name": "python3"
  },
  "language_info": {
   "codemirror_mode": {
    "name": "ipython",
    "version": 3
   },
   "file_extension": ".py",
   "mimetype": "text/x-python",
   "name": "python",
   "nbconvert_exporter": "python",
   "pygments_lexer": "ipython3",
   "version": "3.10.13"
  }
 },
 "nbformat": 4,
 "nbformat_minor": 2
}
