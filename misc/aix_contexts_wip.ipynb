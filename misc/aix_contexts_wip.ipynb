{
 "cells": [
  {
   "cell_type": "code",
   "execution_count": null,
   "metadata": {},
   "outputs": [],
   "source": []
  },
  {
   "cell_type": "markdown",
   "metadata": {},
   "source": [
    "# Scrap"
   ]
  },
  {
   "cell_type": "code",
   "execution_count": null,
   "metadata": {},
   "outputs": [],
   "source": [
    "from aix import convert_files_to_markdown\n",
    "from aix.contexts import extensions_not_supported_by_converters\n",
    "\n",
    "src_dir = 'ENTER_YOUR_SOURCE_DIR_HERE'"
   ]
  },
  {
   "cell_type": "code",
   "execution_count": 2,
   "metadata": {},
   "outputs": [],
   "source": [
    "# If you want to \n",
    "targ_dir = None  # also enter your target folder here\n",
    "\n",
    "if targ_dir is not None:\n",
    "    assert not extensions_not_supported_by_converters(src_dir), (\n",
    "        \"some extensions are not supported by the converters\"\n",
    "    )\n",
    "\n",
    "    target_store = convert_files_to_markdown(src_dir, targ_dir)\n",
    "\n",
    "    print(f\"You now have a folder with {len(target_store)} markdown files in it: {targ_dir}\")\n"
   ]
  },
  {
   "cell_type": "code",
   "execution_count": 7,
   "metadata": {},
   "outputs": [
    {
     "data": {
      "text/plain": [
       "50"
      ]
     },
     "execution_count": 7,
     "metadata": {},
     "output_type": "execute_result"
    }
   ],
   "source": [
    "# doing it in memory\n",
    "in_memory_target_store = convert_files_to_markdown(src_dir, target_store={})\n",
    "len(in_memory_target_store)"
   ]
  },
  {
   "cell_type": "code",
   "execution_count": 8,
   "metadata": {},
   "outputs": [
    {
     "data": {
      "text/plain": [
       "14450386"
      ]
     },
     "execution_count": 8,
     "metadata": {},
     "output_type": "execute_result"
    }
   ],
   "source": [
    "from aix.contexts import aggregate_store\n",
    "\n",
    "md_string = aggregate_store(in_memory_target_store)\n",
    "len(md_string)"
   ]
  },
  {
   "cell_type": "code",
   "execution_count": 9,
   "metadata": {},
   "outputs": [
    {
     "data": {
      "text/plain": [
       "{'docx.md', 'pdf.md', 'pptx.md', 'xlsx.md'}"
      ]
     },
     "execution_count": 9,
     "metadata": {},
     "output_type": "execute_result"
    }
   ],
   "source": [
    "from aix.contexts import get_extension\n",
    "\n",
    "extensions = set(map(lambda x: '.'.join(x.split('.')[-2:]), in_memory_target_store))\n",
    "extensions"
   ]
  },
  {
   "cell_type": "code",
   "execution_count": null,
   "metadata": {},
   "outputs": [
    {
     "name": "stdout",
     "output_type": "stream",
     "text": [
      "aggregate for extension pptx.md has 72835 characters\n",
      "aggregate for extension xlsx.md has 1981094 characters\n",
      "aggregate for extension pdf.md has 1577353 characters\n",
      "aggregate for extension docx.md has 10819098 characters\n"
     ]
    }
   ],
   "source": [
    "aggregate_stores_by_ext = {}\n",
    "\n",
    "for ext in extensions:\n",
    "    substore = {k: v for k, v in in_memory_target_store.items() if k.endswith(ext)}\n",
    "    aggregate_key = \"aggregate.{}\".format(ext)\n",
    "    aggregate_stores_by_ext[aggregate_key] = aggregate_store(substore)\n",
    "    print(f\"aggregate for extension {ext} has {len(aggregate_stores_by_ext[aggregate_key])} characters\")\n"
   ]
  },
  {
   "cell_type": "code",
   "execution_count": 14,
   "metadata": {},
   "outputs": [],
   "source": [
    "# if you want to save this to disk\n",
    "import dol \n",
    "\n",
    "target_sub_stores_folders = '~'  # change here\n",
    "aggregate_stores_by_ext_files = dol.TextFiles(target_sub_stores_folders)\n",
    "\n",
    "aggregate_stores_by_ext_files.update(aggregate_stores_by_ext)\n",
    "# and now you have some files saved to target_sub_stores_folders"
   ]
  },
  {
   "cell_type": "code",
   "execution_count": null,
   "metadata": {},
   "outputs": [],
   "source": []
  },
  {
   "cell_type": "code",
   "execution_count": null,
   "metadata": {},
   "outputs": [],
   "source": []
  }
 ],
 "metadata": {
  "kernelspec": {
   "display_name": "p10",
   "language": "python",
   "name": "python3"
  },
  "language_info": {
   "codemirror_mode": {
    "name": "ipython",
    "version": 3
   },
   "file_extension": ".py",
   "mimetype": "text/x-python",
   "name": "python",
   "nbconvert_exporter": "python",
   "pygments_lexer": "ipython3",
   "version": "3.10.13"
  }
 },
 "nbformat": 4,
 "nbformat_minor": 2
}
